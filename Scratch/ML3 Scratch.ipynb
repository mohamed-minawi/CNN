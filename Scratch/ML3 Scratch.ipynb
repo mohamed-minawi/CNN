{
 "cells": [
  {
   "cell_type": "code",
   "execution_count": 3,
   "metadata": {},
   "outputs": [],
   "source": [
    "import pyximport\n",
    "pyximport.install()\n",
    "import numpy as np\n",
    "from FC_Layer import *\n",
    "from Relu_Layer import *\n",
    "from Softmax_Layer import *\n",
    "from Pooling_Layer import *\n",
    "from Convolution_Layer import *\n",
    "from Load_Data import *\n",
    "from Flatten import *\n",
    "from NN import *\n",
    "from NN_Trainer import *"
   ]
  },
  {
   "cell_type": "code",
   "execution_count": 4,
   "metadata": {
    "scrolled": true
   },
   "outputs": [],
   "source": [
    "data = get_CIFAR10_data()\n",
    "np.random.seed(7)\n",
    "lr = 0.001\n",
    "reg = 0.1\n",
    "ws = 0.1"
   ]
  },
  {
   "cell_type": "code",
   "execution_count": 5,
   "metadata": {
    "collapsed": true
   },
   "outputs": [],
   "source": [
    "cnv = Convolution_Layer((3,32,32), 32, 3, 1, ws)\n",
    "relu = Relu_Layer()\n",
    "cnv2 = Convolution_Layer((32,32,32), 32, 1, 1, ws)\n",
    "relu2 = Relu_Layer()\n",
    "pool = Pooling_Layer(2,2,2)\n",
    "\n",
    "cnv3 = Convolution_Layer((32,16,16), 64, 3, 1, ws)\n",
    "relu3 = Relu_Layer()\n",
    "cnv4 = Convolution_Layer((64,16,16), 64, 1, 1, ws)\n",
    "relu4 = Relu_Layer()\n",
    "pool2 = Pooling_Layer(2,2,2)\n",
    "\n",
    "flt = Flatten()\n",
    "\n",
    "fc1 = FC_Layer(4096,2048, ws, False, 0)\n",
    "relu5 = Relu_Layer()\n",
    "\n",
    "fc2 = FC_Layer(2048,1024, ws, False, 0)\n",
    "relu6 = Relu_Layer()\n",
    "\n",
    "fc3 = FC_Layer(1024,512, ws, False, 0)\n",
    "relu7 = Relu_Layer() \n",
    "\n",
    "fc4 = FC_Layer(512, 10, ws, False, 0)\n",
    "sftmax = Softmax_Layer()"
   ]
  },
  {
   "cell_type": "code",
   "execution_count": 6,
   "metadata": {
    "collapsed": true
   },
   "outputs": [],
   "source": [
    "model = NN(0)\n",
    "\n",
    "model.add_Layer(cnv, lr)\n",
    "model.add_Layer(relu)\n",
    "model.add_Layer(cnv2, lr)\n",
    "model.add_Layer(relu2)\n",
    "model.add_Layer(pool)\n",
    "\n",
    "model.add_Layer(cnv3, lr)\n",
    "model.add_Layer(relu3)\n",
    "model.add_Layer(cnv4, lr)\n",
    "model.add_Layer(relu4)\n",
    "model.add_Layer(pool2)\n",
    "\n",
    "model.add_Layer(flt)\n",
    "\n",
    "model.add_Layer(fc1, lr)\n",
    "model.add_Layer(relu5)\n",
    "\n",
    "model.add_Layer(fc2, lr)\n",
    "model.add_Layer(relu6)\n",
    "\n",
    "model.add_Layer(fc3, lr)\n",
    "model.add_Layer(relu7)\n",
    "\n",
    "model.add_Layer(fc4, lr)\n",
    "model.add_Layer(sftmax)"
   ]
  },
  {
   "cell_type": "code",
   "execution_count": 7,
   "metadata": {},
   "outputs": [
    {
     "name": "stdout",
     "output_type": "stream",
     "text": [
      "('Epoch', 1, '/', 100)---------------------------------------] -0.5% ...Tr Loss: 1.601073\n",
      "(' train acc ', 0.426, ' train loss ', 1.60107, ' val acc', 0.437, ' val loss ', 1.57233)\n",
      "('Epoch', 2, '/', 100)---------------------------------------] -0.5% ...Tr Loss: 1.35292\n",
      "(' train acc ', 0.558, ' train loss ', 1.35292, ' val acc', 0.506, ' val loss ', 1.29469)\n",
      "('Epoch', 3, '/', 100)---------------------------------------] -0.5% ...Tr Loss: 1.22709\n",
      "(' train acc ', 0.579, ' train loss ', 1.22709, ' val acc', 0.577, ' val loss ', 1.24873)\n",
      "('Epoch', 4, '/', 100)---------------------------------------] -0.5% ...Tr Loss: 1.11847\n",
      "(' train acc ', 0.586, ' train loss ', 1.1184, ' val acc', 0.567, ' val loss ', 1.19413)\n",
      "('Epoch', 5, '/', 100)---------------------------------------] -0.5% ...Tr Loss: 1.10459\n",
      "(' train acc ', 0.627, ' train loss ', 1.1045, ' val acc', 0.611, ' val loss ', 1.11532)\n",
      "('Epoch', 6, '/', 100)---------------------------------------] -0.5% ...Tr Loss: 0.95583\n",
      "(' train acc ', 0.636, ' train loss ', 0.95583, ' val acc', 0.64, ' val loss ', 1.04283)\n",
      "('Epoch', 7, '/', 100)---------------------------------------] -0.5% ...Tr Loss: 0.99977\n",
      "(' train acc ', 0.626, ' train loss ', 0.99977, ' val acc', 0.626, ' val loss ', 1.0497)\n",
      "('Epoch', 8, '/', 100)---------------------------------------] -0.5% ...Tr Loss: 0.94092\n",
      "(' train acc ', 0.666, ' train loss ', 0.94092, ' val acc', 0.665, ' val loss ', 0.95074)\n",
      "('Epoch', 9, '/', 100)---------------------------------------] -0.5% ...Tr Loss: 0.89208\n",
      "(' train acc ', 0.69, ' train loss ', 0.89208, ' val acc', 0.699, ' val loss ', 0.87028)\n",
      "('Epoch', 10, '/', 100)--------------------------------------] -0.5% ...Tr Loss: 0.86434\n",
      "(' train acc ', 0.702, ' train loss ', 0.86434, ' val acc', 0.686, ' val loss ', 0.87254)\n",
      "('Epoch', 11, '/', 100)--------------------------------------] -0.5% ...Tr Loss: 0.78758\n",
      "(' train acc ', 0.702, ' train loss ', 0.78758, ' val acc', 0.704, ' val loss ', 0.84604)\n",
      "('Epoch', 12, '/', 100)--------------------------------------] -0.5% ...Tr Loss: 0.80175\n",
      "(' train acc ', 0.737, ' train loss ', 0.80175, ' val acc', 0.719, ' val loss ', 0.79184)\n",
      "('Epoch', 13, '/', 100)--------------------------------------] -0.5% ...Tr Loss: 0.68984\n",
      "(' train acc ', 0.743, ' train loss ', 0.68984, ' val acc', 0.726, ' val loss ', 0.84798)\n",
      "('Epoch', 14, '/', 100)--------------------------------------] -0.5% ...Tr Loss: 0.81658\n",
      "(' train acc ', 0.769, ' train loss ', 0.81658, ' val acc', 0.739, ' val loss ', 0.73875)\n",
      "('Epoch', 15, '/', 100)--------------------------------------] -0.5% ...Tr Loss: 0.73339\n",
      "(' train acc ', 0.742, ' train loss ', 0.73339, ' val acc', 0.724, ' val loss ', 0.82451)\n",
      "('Epoch', 16, '/', 100)--------------------------------------] -0.5% ...Tr Loss: 0.69772\n",
      "(' train acc ', 0.75, ' train loss ', 0.69772, ' val acc', 0.723, ' val loss ', 0.78187)\n",
      "('Epoch', 17, '/', 100)--------------------------------------] -0.5% ...Tr Loss: 0.76866\n",
      "(' train acc ', 0.781, ' train loss ', 0.76866, ' val acc', 0.744, ' val loss ', 0.74026)\n",
      "('Epoch', 18, '/', 100)--------------------------------------] -0.5% ...Tr Loss: 0.64972\n",
      "(' train acc ', 0.771, ' train loss ', 0.64972, ' val acc', 0.745, ' val loss ', 0.73685)\n",
      "('Epoch', 19, '/', 100)--------------------------------------] -0.5% ...Tr Loss: 0.52347\n",
      "(' train acc ', 0.771, ' train loss ', 0.52347, ' val acc', 0.738, ' val loss ', 0.77168)\n",
      "('Epoch', 20, '/', 100)--------------------------------------] -0.5% ...Tr Loss: 0.76573\n",
      "(' train acc ', 0.758, ' train loss ', 0.76573, ' val acc', 0.746, ' val loss ', 0.73037)\n",
      "('Epoch', 21, '/', 100)--------------------------------------] -0.5% ...Tr Loss: 0.61241\n",
      "(' train acc ', 0.781, ' train loss ', 0.61241, ' val acc', 0.753, ' val loss ', 0.73055)\n",
      "('Epoch', 22, '/', 100)--------------------------------------] -0.5% ...Tr Loss: 0.64716\n",
      "(' train acc ', 0.75, ' train loss ', 0.6471, ' val acc', 0.749, ' val loss ', 0.77188)\n",
      "('Epoch', 23, '/', 100)--------------------------------------] -0.5% ...Tr Loss: 0.64734\n",
      "(' train acc ', 0.777, ' train loss ', 0.64734, ' val acc', 0.745, ' val loss ', 0.78174)\n",
      "('Epoch', 24, '/', 100)--------------------------------------] -0.5% ...Tr Loss: 0.64909\n",
      "(' train acc ', 0.812, ' train loss ', 0.64909, ' val acc', 0.769, ' val loss ', 0.6783)\n",
      "('Epoch', 25, '/', 100)--------------------------------------] -0.5% ...Tr Loss: 0.51983\n",
      "(' train acc ', 0.814, ' train loss ', 0.51983, ' val acc', 0.775, ' val loss ', 0.70285)\n",
      "('Epoch', 26, '/', 100)--------------------------------------] -0.5% ...Tr Loss: 0.57358\n",
      "(' train acc ', 0.808, ' train loss ', 0.57358, ' val acc', 0.754, ' val loss ', 0.72998)\n",
      "('Epoch', 27, '/', 100)--------------------------------------] -0.5% ...Tr Loss: 0.56936\n",
      "(' train acc ', 0.784, ' train loss ', 0.56936, ' val acc', 0.771, ' val loss ', 0.69921)\n",
      "('Epoch', 28, '/', 100)--------------------------------------] -0.5% ...Tr Loss: 0.57068\n",
      "(' train acc ', 0.818, ' train loss ', 0.57068, ' val acc', 0.772, ' val loss ', 0.69031)\n",
      "('Epoch', 29, '/', 100)--------------------------------------] -0.5% ...Tr Loss: 0.49828\n",
      "(' train acc ', 0.815, ' train loss ', 0.49828, ' val acc', 0.748, ' val loss ', 0.73574)\n",
      "('Epoch', 30, '/', 100)--------------------------------------] -0.5% ...Tr Loss: 0.52855\n",
      "(' train acc ', 0.827, ' train loss ', 0.52855, ' val acc', 0.765, ' val loss ', 0.72809)\n",
      "('Epoch', 31, '/', 100)--------------------------------------] -0.5% ...Tr Loss: 0.46015\n",
      "(' train acc ', 0.81, ' train loss ', 0.46015, ' val acc', 0.765, ' val loss ', 0.72188)\n",
      "('Epoch', 32, '/', 100)--------------------------------------] -0.5% ...Tr Loss: 0.51307\n",
      "(' train acc ', 0.849, ' train loss ', 0.51307, ' val acc', 0.761, ' val loss ', 0.66723)\n",
      "('Epoch', 33, '/', 100)--------------------------------------] -0.5% ...Tr Loss: 0.57234\n",
      "(' train acc ', 0.828, ' train loss ', 0.57234, ' val acc', 0.763, ' val loss ', 0.75542)\n",
      "('Epoch', 34, '/', 100)--------------------------------------] -0.5% ...Tr Loss: 0.38236\n",
      "(' train acc ', 0.831, ' train loss ', 0.38236, ' val acc', 0.78, ' val loss ', 0.67545)\n",
      "('Epoch', 35, '/', 100)--------------------------------------] -0.5% ...Tr Loss: 0.52107\n",
      "(' train acc ', 0.814, ' train loss ', 0.52107, ' val acc', 0.781, ' val loss ', 0.71232)\n",
      "('Epoch', 36, '/', 100)--------------------------------------] -0.5% ...Tr Loss: 0.41836\n",
      "(' train acc ', 0.854, ' train loss ', 0.41836, ' val acc', 0.779, ' val loss ', 0.68354)\n",
      "('Epoch', 37, '/', 100)--------------------------------------] -0.5% ...Tr Loss: 0.39883\n",
      "(' train acc ', 0.822, ' train loss ', 0.39883, ' val acc', 0.764, ' val loss ', 0.7933)\n",
      "('Epoch', 38, '/', 100)--------------------------------------] -0.5% ...Tr Loss: 0.45441\n",
      "(' train acc ', 0.877, ' train loss ', 0.45441, ' val acc', 0.8, ' val loss ', 0.62927)\n",
      "('Epoch', 39, '/', 100)--------------------------------------] -0.5% ...Tr Loss: 0.45363\n",
      "(' train acc ', 0.854, ' train loss ', 0.45363, ' val acc', 0.795, ' val loss ', 0.65779)\n",
      "('Epoch', 40, '/', 100)--------------------------------------] -0.5% ...Tr Loss: 0.39383\n",
      "(' train acc ', 0.887, ' train loss ', 0.39383, ' val acc', 0.792, ' val loss ', 0.62522)\n",
      "('Epoch', 41, '/', 100)--------------------------------------] -0.5% ...Tr Loss: 0.52472\n",
      "(' train acc ', 0.86, ' train loss ', 0.52472, ' val acc', 0.78, ' val loss ', 0.70668)\n",
      "('Epoch', 42, '/', 100)--------------------------------------] -0.5% ...Tr Loss: 0.39751\n",
      "(' train acc ', 0.866, ' train loss ', 0.39751, ' val acc', 0.788, ' val loss ', 0.65686)\n",
      "('Epoch', 43, '/', 100)--------------------------------------] -0.5% ...Tr Loss: 0.38026\n",
      "(' train acc ', 0.879, ' train loss ', 0.38026, ' val acc', 0.791, ' val loss ', 0.65614)\n",
      "('Epoch', 44, '/', 100)--------------------------------------] -0.5% ...Tr Loss: 0.40713\n",
      "(' train acc ', 0.871, ' train loss ', 0.40713, ' val acc', 0.784, ' val loss ', 0.71079)\n",
      "('Epoch', 45, '/', 100)--------------------------------------] -0.5% ...Tr Loss: 0.37358\n",
      "(' train acc ', 0.873, ' train loss ', 0.3735, ' val acc', 0.786, ' val loss ', 0.73597)\n",
      "('Epoch', 46, '/', 100)--------------------------------------] -0.5% ...Tr Loss: 0.35711\n",
      "(' train acc ', 0.875, ' train loss ', 0.35711, ' val acc', 0.776, ' val loss ', 0.72764)\n",
      "('Epoch', 47, '/', 100)--------------------------------------] -0.5% ...Tr Loss: 0.38343\n",
      "(' train acc ', 0.885, ' train loss ', 0.38343, ' val acc', 0.792, ' val loss ', 0.66936)\n",
      "('Epoch', 48, '/', 100)--------------------------------------] -0.5% ...Tr Loss: 0.34898\n",
      "(' train acc ', 0.885, ' train loss ', 0.34898, ' val acc', 0.781, ' val loss ', 0.77856)\n",
      "('Epoch', 49, '/', 100)--------------------------------------] -0.5% ...Tr Loss: 0.29138\n",
      "(' train acc ', 0.871, ' train loss ', 0.29138, ' val acc', 0.779, ' val loss ', 0.76845)\n",
      "('Epoch', 50, '/', 100)--------------------------------------] -0.5% ...Tr Loss: 0.29344\n",
      "(' train acc ', 0.843, ' train loss ', 0.29344, ' val acc', 0.757, ' val loss ', 0.84955)\n",
      "('Epoch', 51, '/', 100)--------------------------------------] -0.5% ...Tr Loss: 0.28374\n",
      "(' train acc ', 0.878, ' train loss ', 0.28374, ' val acc', 0.766, ' val loss ', 0.78801)\n",
      "('Epoch', 52, '/', 100)--------------------------------------] -0.5% ...Tr Loss: 0.25801\n",
      "(' train acc ', 0.903, ' train loss ', 0.25801, ' val acc', 0.795, ' val loss ', 0.68194)\n",
      "('Epoch', 53, '/', 100)--------------------------------------] -0.5% ...Tr Loss: 0.28444\n",
      "(' train acc ', 0.886, ' train loss ', 0.28444, ' val acc', 0.78, ' val loss ', 0.71561)\n",
      "('Epoch', 54, '/', 100)--------------------------------------] -0.5% ...Tr Loss: 0.31768\n",
      "(' train acc ', 0.877, ' train loss ', 0.31768, ' val acc', 0.771, ' val loss ', 0.76753)\n",
      "('Epoch', 55, '/', 100)--------------------------------------] -0.5% ...Tr Loss: 0.28661\n",
      "(' train acc ', 0.882, ' train loss ', 0.28661, ' val acc', 0.788, ' val loss ', 0.73443)\n",
      "('Epoch', 56, '/', 100)--------------------------------------] -0.5% ...Tr Loss: 0.30778\n",
      "(' train acc ', 0.88, ' train loss ', 0.3077, ' val acc', 0.781, ' val loss ', 0.77155)\n",
      "('Epoch', 57, '/', 100)--------------------------------------] -0.5% ...Tr Loss: 0.30509\n",
      "(' train acc ', 0.893, ' train loss ', 0.30509, ' val acc', 0.785, ' val loss ', 0.76796)\n",
      "('Epoch', 58, '/', 100)--------------------------------------] -0.5% ...Tr Loss: 0.32621\n",
      "(' train acc ', 0.922, ' train loss ', 0.32621, ' val acc', 0.801, ' val loss ', 0.73641)\n",
      "('Epoch', 59, '/', 100)--------------------------------------] -0.5% ...Tr Loss: 0.28212\n",
      "(' train acc ', 0.89, ' train loss ', 0.28212, ' val acc', 0.781, ' val loss ', 0.75151)\n",
      "('Epoch', 60, '/', 100)--------------------------------------] -0.5% ...Tr Loss: 0.27394\n",
      "(' train acc ', 0.909, ' train loss ', 0.27394, ' val acc', 0.803, ' val loss ', 0.70023)\n",
      "('Epoch', 61, '/', 100)--------------------------------------] -0.5% ...Tr Loss: 0.22801\n",
      "(' train acc ', 0.883, ' train loss ', 0.22801, ' val acc', 0.788, ' val loss ', 0.7747)\n",
      "('Epoch', 62, '/', 100)--------------------------------------] -0.5% ...Tr Loss: 0.22253\n",
      "(' train acc ', 0.904, ' train loss ', 0.22253, ' val acc', 0.789, ' val loss ', 0.80287)\n",
      "('Epoch', 63, '/', 100)--------------------------------------] -0.5% ...Tr Loss: 0.25456\n",
      "(' train acc ', 0.86, ' train loss ', 0.25456, ' val acc', 0.763, ' val loss ', 0.88651)\n",
      "('Epoch', 64, '/', 100)--------------------------------------] -0.5% ...Tr Loss: 0.23642\n",
      "(' train acc ', 0.898, ' train loss ', 0.23642, ' val acc', 0.775, ' val loss ', 0.7927)\n",
      "('Epoch', 65, '/', 100)--------------------------------------] -0.5% ...Tr Loss: 0.19674\n",
      "(' train acc ', 0.898, ' train loss ', 0.19674, ' val acc', 0.769, ' val loss ', 0.83704)\n",
      "('Epoch', 66, '/', 100)--------------------------------------] -0.5% ...Tr Loss: 0.22441\n",
      "(' train acc ', 0.929, ' train loss ', 0.22441, ' val acc', 0.795, ' val loss ', 0.76053)\n",
      "('Epoch', 67, '/', 100)--------------------------------------] -0.5% ...Tr Loss: 0.25204\n",
      "(' train acc ', 0.904, ' train loss ', 0.25204, ' val acc', 0.772, ' val loss ', 0.93685)\n",
      "('Epoch', 68, '/', 100)--------------------------------------] -0.5% ...Tr Loss: 0.27469\n",
      "(' train acc ', 0.913, ' train loss ', 0.27469, ' val acc', 0.79, ' val loss ', 0.82752)\n",
      "('Epoch', 69, '/', 100)--------------------------------------] -0.5% ...Tr Loss: 0.23715\n",
      "(' train acc ', 0.898, ' train loss ', 0.23715, ' val acc', 0.79, ' val loss ', 0.77595)\n",
      "('Epoch', 70, '/', 100)--------------------------------------] -0.5% ...Tr Loss: 0.19137\n",
      "(' train acc ', 0.932, ' train loss ', 0.19137, ' val acc', 0.793, ' val loss ', 0.84556)\n",
      "('Epoch', 71, '/', 100)--------------------------------------] -0.5% ...Tr Loss: 0.20323\n",
      "(' train acc ', 0.904, ' train loss ', 0.20323, ' val acc', 0.781, ' val loss ', 0.86078)\n",
      "('Epoch', 72, '/', 100)--------------------------------------] -0.5% ...Tr Loss: 0.27361\n",
      "(' train acc ', 0.93, ' train loss ', 0.27361, ' val acc', 0.798, ' val loss ', 0.81017)\n",
      "('Epoch', 73, '/', 100)--------------------------------------] -0.5% ...Tr Loss: 0.23255\n",
      "(' train acc ', 0.917, ' train loss ', 0.23255, ' val acc', 0.783, ' val loss ', 0.83608)\n",
      "('Epoch', 74, '/', 100)--------------------------------------] -0.5% ...Tr Loss: 0.21874\n",
      "(' train acc ', 0.914, ' train loss ', 0.2187, ' val acc', 0.773, ' val loss ', 0.85266)\n",
      "('Epoch', 75, '/', 100)--------------------------------------] -0.5% ...Tr Loss: 0.19199\n",
      "(' train acc ', 0.945, ' train loss ', 0.19199, ' val acc', 0.784, ' val loss ', 0.89786)\n",
      "('Epoch', 76, '/', 100)--------------------------------------] -0.5% ...Tr Loss: 0.14161\n",
      "(' train acc ', 0.908, ' train loss ', 0.14161, ' val acc', 0.784, ' val loss ', 0.91155)\n",
      "('Epoch', 77, '/', 100)--------------------------------------] -0.5% ...Tr Loss: 0.18747\n",
      "(' train acc ', 0.916, ' train loss ', 0.1874, ' val acc', 0.789, ' val loss ', 0.89213)\n",
      "('Epoch', 78, '/', 100)--------------------------------------] -0.5% ...Tr Loss: 0.24225\n",
      "(' train acc ', 0.926, ' train loss ', 0.24225, ' val acc', 0.8, ' val loss ', 0.82515)\n",
      "('Epoch', 79, '/', 100)--------------------------------------] -0.5% ...Tr Loss: 0.29484\n",
      "(' train acc ', 0.918, ' train loss ', 0.29484, ' val acc', 0.784, ' val loss ', 0.91032)\n",
      "('Epoch', 80, '/', 100)--------------------------------------] -0.5% ...Tr Loss: 0.13978\n",
      "(' train acc ', 0.918, ' train loss ', 0.13978, ' val acc', 0.786, ' val loss ', 0.87576)\n",
      "('Epoch', 81, '/', 100)--------------------------------------] -0.5% ...Tr Loss: 0.16911\n",
      "(' train acc ', 0.914, ' train loss ', 0.1691, ' val acc', 0.794, ' val loss ', 0.8851)\n",
      "('Epoch', 82, '/', 100)--------------------------------------] -0.5% ...Tr Loss: 0.14371\n",
      "(' train acc ', 0.932, ' train loss ', 0.14371, ' val acc', 0.776, ' val loss ', 0.91463)\n",
      "('Epoch', 83, '/', 100)--------------------------------------] -0.5% ...Tr Loss: 0.13175\n",
      "(' train acc ', 0.915, ' train loss ', 0.13175, ' val acc', 0.78, ' val loss ', 0.9716)\n",
      "('Epoch', 84, '/', 100)--------------------------------------] -0.5% ...Tr Loss: 0.18691\n",
      "(' train acc ', 0.923, ' train loss ', 0.18691, ' val acc', 0.786, ' val loss ', 0.94019)\n",
      "('Epoch', 85, '/', 100)--------------------------------------] -0.5% ...Tr Loss: 0.25436\n",
      "(' train acc ', 0.914, ' train loss ', 0.25436, ' val acc', 0.789, ' val loss ', 0.89869)\n",
      "('Epoch', 86, '/', 100)--------------------------------------] -0.5% ...Tr Loss: 0.14155\n",
      "(' train acc ', 0.928, ' train loss ', 0.14155, ' val acc', 0.791, ' val loss ', 0.8803)\n",
      "('Epoch', 87, '/', 100)--------------------------------------] -0.5% ...Tr Loss: 0.11251\n",
      "(' train acc ', 0.928, ' train loss ', 0.11251, ' val acc', 0.798, ' val loss ', 0.85516)\n",
      "('Epoch', 88, '/', 100)--------------------------------------] -0.5% ...Tr Loss: 0.20342\n",
      "(' train acc ', 0.904, ' train loss ', 0.20342, ' val acc', 0.789, ' val loss ', 0.91953)\n",
      "('Epoch', 89, '/', 100)--------------------------------------] -0.5% ...Tr Loss: 0.19915\n",
      "(' train acc ', 0.935, ' train loss ', 0.19915, ' val acc', 0.797, ' val loss ', 0.91265)\n",
      "('Epoch', 90, '/', 100)--------------------------------------] -0.5% ...Tr Loss: 0.17286\n",
      "(' train acc ', 0.936, ' train loss ', 0.1728, ' val acc', 0.802, ' val loss ', 0.8231)\n",
      "('Epoch', 91, '/', 100)--------------------------------------] -0.5% ...Tr Loss: 0.16633\n",
      "(' train acc ', 0.944, ' train loss ', 0.16633, ' val acc', 0.775, ' val loss ', 0.9245)\n",
      "('Epoch', 92, '/', 100)--------------------------------------] -0.5% ...Tr Loss: 0.19714\n",
      "(' train acc ', 0.923, ' train loss ', 0.19714, ' val acc', 0.777, ' val loss ', 0.95763)\n",
      "('Epoch', 93, '/', 100)--------------------------------------] -0.5% ...Tr Loss: 0.13176\n",
      "(' train acc ', 0.926, ' train loss ', 0.131, ' val acc', 0.776, ' val loss ', 0.94765)\n",
      "('Epoch', 94, '/', 100)--------------------------------------] -0.5% ...Tr Loss: 0.17396\n",
      "(' train acc ', 0.937, ' train loss ', 0.17396, ' val acc', 0.793, ' val loss ', 0.80682)\n",
      "('Epoch', 95, '/', 100)--------------------------------------] -0.5% ...Tr Loss: 0.13997\n",
      "(' train acc ', 0.938, ' train loss ', 0.13997, ' val acc', 0.789, ' val loss ', 0.98666)\n",
      "('Epoch', 96, '/', 100)--------------------------------------] -0.5% ...Tr Loss: 0.15738\n",
      "(' train acc ', 0.939, ' train loss ', 0.15738, ' val acc', 0.794, ' val loss ', 0.8424)\n",
      "('Epoch', 97, '/', 100)--------------------------------------] -0.5% ...Tr Loss: 0.18898\n",
      "(' train acc ', 0.947, ' train loss ', 0.1889, ' val acc', 0.787, ' val loss ', 0.97942)\n",
      "('Epoch', 98, '/', 100)--------------------------------------] -0.5% ...Tr Loss: 0.10636\n",
      "(' train acc ', 0.916, ' train loss ', 0.10636, ' val acc', 0.797, ' val loss ', 0.94388)\n",
      "('Epoch', 99, '/', 100)--------------------------------------] -0.5% ...Tr Loss: 0.14984\n",
      "(' train acc ', 0.95, ' train loss ', 0.1498, ' val acc', 0.795, ' val loss ', 0.93542)\n",
      "('Epoch', 100, '/', 100)-------------------------------------] -0.5% ...Tr Loss: 0.14424\n",
      "(' train acc ', 0.92, ' train loss ', 0.14424, ' val acc', 0.774, ' val loss ', 1.04982)\n"
     ]
    }
   ],
   "source": [
    "solver = NN_Trainer(model, data,\n",
    "                num_epochs=100, batch_size=250,\n",
    "                verbose= True)\n",
    "solver.train()"
   ]
  },
  {
   "cell_type": "code",
   "execution_count": 16,
   "metadata": {},
   "outputs": [
    {
     "name": "stdout",
     "output_type": "stream",
     "text": [
      "ACCR 0.784\n"
     ]
    }
   ],
   "source": [
    "y_test_pred = np.argmax(model.loss(data[\"X_test\"]), axis = 1)\n",
    "\n",
    "print 'ACCR', (y_test_pred == data[\"y_test\"]).mean()"
   ]
  },
  {
   "cell_type": "code",
   "execution_count": 18,
   "metadata": {},
   "outputs": [
    {
     "name": "stdout",
     "output_type": "stream",
     "text": [
      " 0 0.7859531772575251\n",
      "1 0.9303135888501742\n",
      "2 0.5974842767295597\n",
      "3 0.5627118644067797\n",
      "4 0.745819397993311\n",
      "5 0.696551724137931\n",
      "6 0.9153094462540716\n",
      "7 0.8356643356643356\n",
      "8 0.8354430379746836\n",
      "9 0.9405940594059405\n"
     ]
    }
   ],
   "source": [
    "for i in range(10):\n",
    "    print i, np.sum( np.logical_and(y_test_pred == data[\"y_test\"][:3000], data[\"y_test\"][:3000] == i)) / float(np.sum(data[\"y_test\"][:3000] == i)) "
   ]
  },
  {
   "cell_type": "code",
   "execution_count": 20,
   "metadata": {},
   "outputs": [],
   "source": [
    "import matplotlib.pyplot as plt\n",
    "\n"
   ]
  },
  {
   "cell_type": "code",
   "execution_count": 21,
   "metadata": {},
   "outputs": [
    {
     "data": {
      "image/png": "[encoded data removed]",
      "text/plain": [
       "<matplotlib.figure.Figure at 0x7fc164856310>"
      ]
     },
     "metadata": {},
     "output_type": "display_data"
    },
    {
     "data": {
      "image/png": "[encoded data removed]",
      "text/plain": [
       "<matplotlib.figure.Figure at 0x7fc1648562d0>"
      ]
     },
     "metadata": {},
     "output_type": "display_data"
    },
    {
     "data": {
      "image/png": "[encoded data removed]",
      "text/plain": [
       "<matplotlib.figure.Figure at 0x7fc164856350>"
      ]
     },
     "metadata": {},
     "output_type": "display_data"
    },
    {
     "data": {
      "image/png": "[encoded data removed]",
      "text/plain": [
       "<matplotlib.figure.Figure at 0x7fc164856790>"
      ]
     },
     "metadata": {},
     "output_type": "display_data"
    }
   ],
   "source": [
    "plt.plot(solver.val_acc_history, 'o')\n",
    "plt.title('Validation Accuracy vs Epochs')\n",
    "plt.xlabel('Iteration')\n",
    "plt.ylabel('Val Acc')\n",
    "plt.show()\n",
    "\n",
    "plt.plot(solver.train_acc_history, 'o')\n",
    "plt.title('Training Accuracy vs Epochs')\n",
    "plt.xlabel('Iteration')\n",
    "plt.ylabel('Train Acc')\n",
    "plt.show()\n",
    "\n",
    "plt.plot(solver.loss_history, 'o')\n",
    "plt.title('Training Loss vs Epochs')\n",
    "plt.xlabel('Iteration')\n",
    "plt.ylabel('Train Loss')\n",
    "plt.show()\n",
    "\n",
    "plt.plot(solver.val_loss, 'o')\n",
    "plt.title('Validation Loss vs Epochs')\n",
    "plt.xlabel('Iteration')\n",
    "plt.ylabel('Val Loss')\n",
    "plt.show()"
   ]
  },
  {
   "cell_type": "code",
   "execution_count": null,
   "metadata": {
    "collapsed": true
   },
   "outputs": [],
   "source": []
  }
 ],
 "metadata": {
  "kernelspec": {
   "display_name": "Python 3",
   "language": "python",
   "name": "python3"
  },
  "language_info": {
   "codemirror_mode": {
    "name": "ipython",
    "version": 3
   },
   "file_extension": ".py",
   "mimetype": "text/x-python",
   "name": "python",
   "nbconvert_exporter": "python",
   "pygments_lexer": "ipython3",
   "version": "3.6.4"
  }
 },
 "nbformat": 4,
 "nbformat_minor": 2
}
